{
 "metadata": {
  "name": "",
  "signature": "sha256:ecf549682ad45e11522a1aa4367a791df18fb37754ca7a7260e2da3eb7dc251e"
 },
 "nbformat": 3,
 "nbformat_minor": 0,
 "worksheets": [
  {
   "cells": [
    {
     "cell_type": "code",
     "collapsed": false,
     "input": [
      "%matplotlib inline\n",
      "import numpy as np\n",
      "import pandas as pd\n",
      "import matplotlib.pyplot as plt\n",
      "pd.set_option('display.max_columns', 100)\n",
      "\n",
      "print 'Pandas version ' + pd.__version__\n",
      "print 'Numpy version ' + np.__version__"
     ],
     "language": "python",
     "metadata": {},
     "outputs": [
      {
       "output_type": "stream",
       "stream": "stdout",
       "text": [
        "Pandas version 0.14.1\n",
        "Numpy version 1.9.0\n"
       ]
      }
     ],
     "prompt_number": 2
    },
    {
     "cell_type": "code",
     "collapsed": false,
     "input": [
      "data = pd.read_table(\"irclog.tsv\")"
     ],
     "language": "python",
     "metadata": {},
     "outputs": [],
     "prompt_number": 3
    },
    {
     "cell_type": "code",
     "collapsed": false,
     "input": [
      "data.head()"
     ],
     "language": "python",
     "metadata": {},
     "outputs": [
      {
       "html": [
        "<div style=\"max-height:1000px;max-width:1500px;overflow:auto;\">\n",
        "<table border=\"1\" class=\"dataframe\">\n",
        "  <thead>\n",
        "    <tr style=\"text-align: right;\">\n",
        "      <th></th>\n",
        "      <th>id</th>\n",
        "      <th>channel</th>\n",
        "      <th>day</th>\n",
        "      <th>nick</th>\n",
        "      <th>timestamp</th>\n",
        "      <th>line</th>\n",
        "      <th>spam</th>\n",
        "      <th>in_summary</th>\n",
        "    </tr>\n",
        "  </thead>\n",
        "  <tbody>\n",
        "    <tr>\n",
        "      <th>0</th>\n",
        "      <td> 1</td>\n",
        "      <td>  #pdurbin</td>\n",
        "      <td> 2012-11-28</td>\n",
        "      <td>     NaN</td>\n",
        "      <td> 1354079249</td>\n",
        "      <td>                           philbot joined #pdurbin</td>\n",
        "      <td> 0</td>\n",
        "      <td> 0</td>\n",
        "    </tr>\n",
        "    <tr>\n",
        "      <th>1</th>\n",
        "      <td> 2</td>\n",
        "      <td>  #pdurbin</td>\n",
        "      <td> 2012-11-28</td>\n",
        "      <td>     NaN</td>\n",
        "      <td> 1354079699</td>\n",
        "      <td>                           philbot joined #pdurbin</td>\n",
        "      <td> 0</td>\n",
        "      <td> 0</td>\n",
        "    </tr>\n",
        "    <tr>\n",
        "      <th>2</th>\n",
        "      <td> 3</td>\n",
        "      <td> #sourcefu</td>\n",
        "      <td> 2012-11-28</td>\n",
        "      <td>     NaN</td>\n",
        "      <td> 1354079699</td>\n",
        "      <td>                          philbot joined #sourcefu</td>\n",
        "      <td> 0</td>\n",
        "      <td> 0</td>\n",
        "    </tr>\n",
        "    <tr>\n",
        "      <th>3</th>\n",
        "      <td> 4</td>\n",
        "      <td>  #pdurbin</td>\n",
        "      <td> 2012-11-28</td>\n",
        "      <td> pdurbin</td>\n",
        "      <td> 1354081197</td>\n",
        "      <td> the other day i wrote a post called \"IRC loggi...</td>\n",
        "      <td> 0</td>\n",
        "      <td> 0</td>\n",
        "    </tr>\n",
        "    <tr>\n",
        "      <th>4</th>\n",
        "      <td> 5</td>\n",
        "      <td>  #pdurbin</td>\n",
        "      <td> 2012-11-28</td>\n",
        "      <td> pdurbin</td>\n",
        "      <td> 1354081242</td>\n",
        "      <td>  Dave Winer is my inspiration for this with hi...</td>\n",
        "      <td> 0</td>\n",
        "      <td> 0</td>\n",
        "    </tr>\n",
        "  </tbody>\n",
        "</table>\n",
        "</div>"
       ],
       "metadata": {},
       "output_type": "pyout",
       "prompt_number": 4,
       "text": [
        "   id    channel         day     nick   timestamp  \\\n",
        "0   1   #pdurbin  2012-11-28      NaN  1354079249   \n",
        "1   2   #pdurbin  2012-11-28      NaN  1354079699   \n",
        "2   3  #sourcefu  2012-11-28      NaN  1354079699   \n",
        "3   4   #pdurbin  2012-11-28  pdurbin  1354081197   \n",
        "4   5   #pdurbin  2012-11-28  pdurbin  1354081242   \n",
        "\n",
        "                                                line  spam  in_summary  \n",
        "0                            philbot joined #pdurbin     0           0  \n",
        "1                            philbot joined #pdurbin     0           0  \n",
        "2                           philbot joined #sourcefu     0           0  \n",
        "3  the other day i wrote a post called \"IRC loggi...     0           0  \n",
        "4   Dave Winer is my inspiration for this with hi...     0           0  "
       ]
      }
     ],
     "prompt_number": 4
    },
    {
     "cell_type": "code",
     "collapsed": false,
     "input": [
      "data.info()"
     ],
     "language": "python",
     "metadata": {},
     "outputs": [
      {
       "output_type": "stream",
       "stream": "stdout",
       "text": [
        "<class 'pandas.core.frame.DataFrame'>\n",
        "Int64Index: 94198 entries, 0 to 94197\n",
        "Data columns (total 8 columns):\n",
        "id            94198 non-null int64\n",
        "channel       94198 non-null object\n",
        "day           94198 non-null object\n",
        "nick          60006 non-null object\n",
        "timestamp     94198 non-null int64\n",
        "line          94192 non-null object\n",
        "spam          94198 non-null int64\n",
        "in_summary    94198 non-null int64\n",
        "dtypes: int64(4), object(4)"
       ]
      }
     ],
     "prompt_number": 5
    },
    {
     "cell_type": "code",
     "collapsed": false,
     "input": [
      "list(data.columns)"
     ],
     "language": "python",
     "metadata": {},
     "outputs": [
      {
       "metadata": {},
       "output_type": "pyout",
       "prompt_number": 6,
       "text": [
        "['id', 'channel', 'day', 'nick', 'timestamp', 'line', 'spam', 'in_summary']"
       ]
      }
     ],
     "prompt_number": 6
    },
    {
     "cell_type": "code",
     "collapsed": false,
     "input": [
      "data['channel'].value_counts()"
     ],
     "language": "python",
     "metadata": {},
     "outputs": [
      {
       "metadata": {},
       "output_type": "pyout",
       "prompt_number": 7,
       "text": [
        "#javaee                50224\n",
        "#rest                  18079\n",
        "#sourcefu              12743\n",
        "#wonderstudy            5327\n",
        "#virtualJUG             3222\n",
        "#friendlyjava           2811\n",
        "#spanworm               1125\n",
        "#northeastlinuxfest      571\n",
        "#pdurbin                  95\n",
        "#virtualjug                1\n",
        "dtype: int64"
       ]
      }
     ],
     "prompt_number": 7
    },
    {
     "cell_type": "code",
     "collapsed": false,
     "input": [],
     "language": "python",
     "metadata": {},
     "outputs": []
    }
   ],
   "metadata": {}
  }
 ]
}